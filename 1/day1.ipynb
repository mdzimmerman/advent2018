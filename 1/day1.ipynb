{
 "cells": [
  {
   "cell_type": "code",
   "execution_count": 15,
   "metadata": {},
   "outputs": [
    {
     "data": {
      "text/plain": [
       "590"
      ]
     },
     "execution_count": 15,
     "metadata": {},
     "output_type": "execute_result"
    }
   ],
   "source": [
    "def get_input(filename):\n",
    "    out = []\n",
    "    with open(filename, \"r\") as fh:\n",
    "        for l in fh:\n",
    "            out.append(int(l))\n",
    "    return out\n",
    "\n",
    "f = 0\n",
    "for n in get_input(\"input.txt\"):\n",
    "    f += n\n",
    "f"
   ]
  },
  {
   "cell_type": "code",
   "execution_count": 3,
   "metadata": {},
   "outputs": [],
   "source": [
    "test = [1, -2, 3, 1]"
   ]
  },
  {
   "cell_type": "code",
   "execution_count": 19,
   "metadata": {},
   "outputs": [
    {
     "name": "stdout",
     "output_type": "stream",
     "text": [
      "pass 1\n",
      "pass 2\n"
     ]
    },
    {
     "data": {
      "text/plain": [
       "2"
      ]
     },
     "execution_count": 19,
     "metadata": {},
     "output_type": "execute_result"
    }
   ],
   "source": [
    "def part2(data):\n",
    "    f = 0\n",
    "    seen = set()\n",
    "    seen.add(f)\n",
    "    p = 1\n",
    "    while True:\n",
    "        print(\"pass %d\" % p)\n",
    "        for n in data:\n",
    "            #print(\"%d + %d => %d\" % (f, n, f+n))\n",
    "            f += n\n",
    "            if (f in seen):\n",
    "                return f\n",
    "            else:\n",
    "                seen.add(f)\n",
    "        p += 1\n",
    "            \n",
    "part2(test)"
   ]
  },
  {
   "cell_type": "code",
   "execution_count": 20,
   "metadata": {},
   "outputs": [
    {
     "name": "stdout",
     "output_type": "stream",
     "text": [
      "pass 1\n",
      "pass 2\n",
      "pass 3\n",
      "pass 4\n",
      "pass 5\n",
      "pass 6\n",
      "pass 7\n",
      "pass 8\n",
      "pass 9\n",
      "pass 10\n",
      "pass 11\n",
      "pass 12\n",
      "pass 13\n",
      "pass 14\n",
      "pass 15\n",
      "pass 16\n",
      "pass 17\n",
      "pass 18\n",
      "pass 19\n",
      "pass 20\n",
      "pass 21\n",
      "pass 22\n",
      "pass 23\n",
      "pass 24\n",
      "pass 25\n",
      "pass 26\n",
      "pass 27\n",
      "pass 28\n",
      "pass 29\n",
      "pass 30\n",
      "pass 31\n",
      "pass 32\n",
      "pass 33\n",
      "pass 34\n",
      "pass 35\n",
      "pass 36\n",
      "pass 37\n",
      "pass 38\n",
      "pass 39\n",
      "pass 40\n",
      "pass 41\n",
      "pass 42\n",
      "pass 43\n",
      "pass 44\n",
      "pass 45\n",
      "pass 46\n",
      "pass 47\n",
      "pass 48\n",
      "pass 49\n",
      "pass 50\n",
      "pass 51\n",
      "pass 52\n",
      "pass 53\n",
      "pass 54\n",
      "pass 55\n",
      "pass 56\n",
      "pass 57\n",
      "pass 58\n",
      "pass 59\n",
      "pass 60\n",
      "pass 61\n",
      "pass 62\n",
      "pass 63\n",
      "pass 64\n",
      "pass 65\n",
      "pass 66\n",
      "pass 67\n",
      "pass 68\n",
      "pass 69\n",
      "pass 70\n",
      "pass 71\n",
      "pass 72\n",
      "pass 73\n",
      "pass 74\n",
      "pass 75\n",
      "pass 76\n",
      "pass 77\n",
      "pass 78\n",
      "pass 79\n",
      "pass 80\n",
      "pass 81\n",
      "pass 82\n",
      "pass 83\n",
      "pass 84\n",
      "pass 85\n",
      "pass 86\n",
      "pass 87\n",
      "pass 88\n",
      "pass 89\n",
      "pass 90\n",
      "pass 91\n",
      "pass 92\n",
      "pass 93\n",
      "pass 94\n",
      "pass 95\n",
      "pass 96\n",
      "pass 97\n",
      "pass 98\n",
      "pass 99\n",
      "pass 100\n",
      "pass 101\n",
      "pass 102\n",
      "pass 103\n",
      "pass 104\n",
      "pass 105\n",
      "pass 106\n",
      "pass 107\n",
      "pass 108\n",
      "pass 109\n",
      "pass 110\n",
      "pass 111\n",
      "pass 112\n",
      "pass 113\n",
      "pass 114\n",
      "pass 115\n",
      "pass 116\n",
      "pass 117\n",
      "pass 118\n",
      "pass 119\n",
      "pass 120\n",
      "pass 121\n",
      "pass 122\n",
      "pass 123\n",
      "pass 124\n",
      "pass 125\n",
      "pass 126\n",
      "pass 127\n",
      "pass 128\n",
      "pass 129\n",
      "pass 130\n",
      "pass 131\n",
      "pass 132\n",
      "pass 133\n",
      "pass 134\n",
      "pass 135\n",
      "pass 136\n",
      "pass 137\n",
      "pass 138\n",
      "pass 139\n",
      "pass 140\n",
      "pass 141\n",
      "pass 142\n"
     ]
    },
    {
     "data": {
      "text/plain": [
       "83445"
      ]
     },
     "execution_count": 20,
     "metadata": {},
     "output_type": "execute_result"
    }
   ],
   "source": [
    "part2(get_input(\"input.txt\"))"
   ]
  },
  {
   "cell_type": "code",
   "execution_count": null,
   "metadata": {},
   "outputs": [],
   "source": []
  }
 ],
 "metadata": {
  "kernelspec": {
   "display_name": "Python 3",
   "language": "python",
   "name": "python3"
  },
  "language_info": {
   "codemirror_mode": {
    "name": "ipython",
    "version": 3
   },
   "file_extension": ".py",
   "mimetype": "text/x-python",
   "name": "python",
   "nbconvert_exporter": "python",
   "pygments_lexer": "ipython3",
   "version": "3.6.4"
  }
 },
 "nbformat": 4,
 "nbformat_minor": 2
}
