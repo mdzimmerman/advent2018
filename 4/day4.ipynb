{
 "cells": [
  {
   "cell_type": "code",
   "execution_count": 19,
   "metadata": {},
   "outputs": [],
   "source": [
    "import re\n",
    "\n",
    "import numpy as np"
   ]
  },
  {
   "cell_type": "code",
   "execution_count": 3,
   "metadata": {},
   "outputs": [
    {
     "data": {
      "text/plain": [
       "['[1518-11-01 00:00] Guard #10 begins shift',\n",
       " '[1518-11-01 00:05] falls asleep',\n",
       " '[1518-11-01 00:25] wakes up',\n",
       " '[1518-11-01 00:30] falls asleep',\n",
       " '[1518-11-01 00:55] wakes up',\n",
       " '[1518-11-01 23:58] Guard #99 begins shift',\n",
       " '[1518-11-02 00:40] falls asleep',\n",
       " '[1518-11-02 00:50] wakes up',\n",
       " '[1518-11-03 00:05] Guard #10 begins shift',\n",
       " '[1518-11-03 00:24] falls asleep',\n",
       " '[1518-11-03 00:29] wakes up',\n",
       " '[1518-11-04 00:02] Guard #99 begins shift',\n",
       " '[1518-11-04 00:36] falls asleep',\n",
       " '[1518-11-04 00:46] wakes up',\n",
       " '[1518-11-05 00:03] Guard #99 begins shift',\n",
       " '[1518-11-05 00:45] falls asleep',\n",
       " '[1518-11-05 00:55] wakes up']"
      ]
     },
     "execution_count": 3,
     "metadata": {},
     "output_type": "execute_result"
    }
   ],
   "source": [
    "test = [\n",
    "    \"[1518-11-01 00:00] Guard #10 begins shift\",\n",
    "    \"[1518-11-01 00:05] falls asleep\",\n",
    "    \"[1518-11-01 00:25] wakes up\",\n",
    "    \"[1518-11-01 00:30] falls asleep\",\n",
    "    \"[1518-11-01 00:55] wakes up\",\n",
    "    \"[1518-11-01 23:58] Guard #99 begins shift\",\n",
    "    \"[1518-11-02 00:40] falls asleep\",\n",
    "    \"[1518-11-02 00:50] wakes up\",\n",
    "    \"[1518-11-03 00:05] Guard #10 begins shift\",\n",
    "    \"[1518-11-03 00:24] falls asleep\",\n",
    "    \"[1518-11-03 00:29] wakes up\",\n",
    "    \"[1518-11-04 00:02] Guard #99 begins shift\",\n",
    "    \"[1518-11-04 00:36] falls asleep\",\n",
    "    \"[1518-11-04 00:46] wakes up\",\n",
    "    \"[1518-11-05 00:03] Guard #99 begins shift\",\n",
    "    \"[1518-11-05 00:45] falls asleep\",\n",
    "    \"[1518-11-05 00:55] wakes up\"]\n",
    "\n",
    "test"
   ]
  },
  {
   "cell_type": "code",
   "execution_count": 40,
   "metadata": {},
   "outputs": [
    {
     "name": "stdout",
     "output_type": "stream",
     "text": [
      "guard 10: total asleep: 50, min most asleep: 24\n",
      "guard 99: total asleep: 30, min most asleep: 45\n"
     ]
    },
    {
     "data": {
      "text/plain": [
       "4455"
      ]
     },
     "execution_count": 40,
     "metadata": {},
     "output_type": "execute_result"
    }
   ],
   "source": [
    "patt_log = re.compile(r\"\"\"\\[(\\d{4}-\\d{2}-\\d{2}) (\\d{2}):(\\d{2})\\] (.+)\"\"\")\n",
    "\n",
    "patt_guard = re.compile(r\"\"\"Guard #(\\d+) begins shift\"\"\")\n",
    "\n",
    "def process_log(log):\n",
    "    guards = {}\n",
    "    guard, asleep, awake = None, None, None\n",
    "    for l in log:\n",
    "        m = patt_log.match(l)\n",
    "        if m:\n",
    "            day = m.group(1)\n",
    "            hr   = int(m.group(2))\n",
    "            mn   = int(m.group(3))\n",
    "            txt  = m.group(4)   \n",
    "            #print((day, hr, mn, txt))\n",
    "            \n",
    "            m2 = patt_guard.match(txt)\n",
    "            if m2:\n",
    "                guard = int(m2.group(1))\n",
    "            elif txt == \"falls asleep\":\n",
    "                asleep = mn\n",
    "            elif txt == \"wakes up\":\n",
    "                awake = mn\n",
    "                if guard not in guards:\n",
    "                    guards[guard] = np.zeros(60, dtype=int)\n",
    "                guards[guard][asleep:awake] += 1\n",
    "    \n",
    "    max_total, max_g, max_most, max_most_times = 0, 0, 0, 0\n",
    "    for g, arr in guards.items():\n",
    "        total = arr.sum()\n",
    "        most  = arr.argmax()\n",
    "        most_times = arr[most]\n",
    "        print(\"guard %d: total asleep: %d, min most asleep: %s\" % (g, total, most))\n",
    "        #if total > max_total:\n",
    "        #    max_total, max_g, max_most = total, g, most\n",
    "        if max_most_times < most_times:\n",
    "            max_total, max_g, max_most, max_most_times = total, g, most, most_times\n",
    "    return max_g * max_most\n",
    "\n",
    "process_log(test)"
   ]
  },
  {
   "cell_type": "code",
   "execution_count": 41,
   "metadata": {},
   "outputs": [
    {
     "name": "stdout",
     "output_type": "stream",
     "text": [
      "guard 971: total asleep: 449, min most asleep: 38\n",
      "guard 3079: total asleep: 414, min most asleep: 22\n",
      "guard 653: total asleep: 249, min most asleep: 38\n",
      "guard 3319: total asleep: 229, min most asleep: 22\n",
      "guard 1069: total asleep: 223, min most asleep: 32\n",
      "guard 727: total asleep: 343, min most asleep: 37\n",
      "guard 3109: total asleep: 250, min most asleep: 36\n",
      "guard 3461: total asleep: 395, min most asleep: 36\n",
      "guard 1117: total asleep: 300, min most asleep: 30\n",
      "guard 1093: total asleep: 330, min most asleep: 25\n",
      "guard 641: total asleep: 254, min most asleep: 23\n",
      "guard 2339: total asleep: 260, min most asleep: 25\n",
      "guard 1877: total asleep: 406, min most asleep: 43\n",
      "guard 683: total asleep: 152, min most asleep: 36\n",
      "guard 3331: total asleep: 267, min most asleep: 40\n",
      "guard 2953: total asleep: 237, min most asleep: 13\n",
      "guard 2543: total asleep: 188, min most asleep: 37\n",
      "guard 919: total asleep: 430, min most asleep: 30\n",
      "guard 1931: total asleep: 294, min most asleep: 18\n",
      "guard 2179: total asleep: 318, min most asleep: 27\n"
     ]
    },
    {
     "data": {
      "text/plain": [
       "80711"
      ]
     },
     "execution_count": 41,
     "metadata": {},
     "output_type": "execute_result"
    }
   ],
   "source": [
    "def read_input(filename):\n",
    "    out = []\n",
    "    with open(filename, \"r\") as fh:\n",
    "        for l in fh:\n",
    "            out.append(l.rstrip())\n",
    "    return out\n",
    "\n",
    "process_log(sorted(read_input(\"input.txt\")))"
   ]
  },
  {
   "cell_type": "code",
   "execution_count": null,
   "metadata": {},
   "outputs": [],
   "source": []
  }
 ],
 "metadata": {
  "kernelspec": {
   "display_name": "Python 3",
   "language": "python",
   "name": "python3"
  },
  "language_info": {
   "codemirror_mode": {
    "name": "ipython",
    "version": 3
   },
   "file_extension": ".py",
   "mimetype": "text/x-python",
   "name": "python",
   "nbconvert_exporter": "python",
   "pygments_lexer": "ipython3",
   "version": "3.6.4"
  }
 },
 "nbformat": 4,
 "nbformat_minor": 2
}
