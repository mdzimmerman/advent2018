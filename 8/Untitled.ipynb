{
 "cells": [
  {
   "cell_type": "code",
   "execution_count": 1,
   "metadata": {},
   "outputs": [],
   "source": [
    "import sys\n",
    "\n",
    "import numpy as np"
   ]
  },
  {
   "cell_type": "code",
   "execution_count": 12,
   "metadata": {},
   "outputs": [
    {
     "name": "stdout",
     "output_type": "stream",
     "text": [
      "Node(array=[ 2  3  0  3 10 11 12  1  1  0  1 99  2  1  1  2] nchild=2 nmeta=3 meta=[1 1 2])\n",
      "  Node(array=[ 0  3 10 11 12  1  1  0  1 99  2  1  1  2] nchild=0 nmeta=3 meta=[10 11 12])\n",
      "  Node(array=[ 1  1  0  1 99  2  1  1  2] nchild=1 nmeta=1 meta=[2])\n",
      "    Node(array=[ 0  1 99  2  1  1  2] nchild=0 nmeta=1 meta=[99])\n"
     ]
    },
    {
     "data": {
      "text/plain": [
       "138"
      ]
     },
     "execution_count": 12,
     "metadata": {},
     "output_type": "execute_result"
    }
   ],
   "source": [
    "class Node:\n",
    "    def __init__(self, array):\n",
    "        self.array = array\n",
    "        self.nchild, self.nmeta = self.array[:2]\n",
    "        #self.meta = self.array[-self.nmeta:]\n",
    "        \n",
    "        newarray = self.array[2:]\n",
    "        self.children = []\n",
    "        for _ in range(self.nchild):\n",
    "            n = Node(newarray)\n",
    "            self.children.append(n)\n",
    "            newarray = newarray[n.size():]\n",
    "        self.meta = newarray[:self.nmeta]\n",
    "    \n",
    "    def size(self):\n",
    "        return 2 + self.nmeta + sum(c.size() for c in self.children)\n",
    "       \n",
    "    def __repr__(self):\n",
    "        return \"Node(array=%s nchild=%d nmeta=%d meta=%s)\" % (\n",
    "            self.array, self.nchild, self.nmeta, self.meta)\n",
    "    \n",
    "    def pprint(self, l=0):\n",
    "        indent = \"\".join([\"  \" for i in range(l)])\n",
    "        print(indent+str(self))\n",
    "        for c in self.children:\n",
    "            c.pprint(l+1)\n",
    "\n",
    "    def metasum(self):\n",
    "        sum = self.meta.sum()\n",
    "        for c in self.children:\n",
    "            sum += c.metasum()\n",
    "        return sum\n",
    "    \n",
    "    @staticmethod\n",
    "    def from_string(s):\n",
    "        array = np.array([int(n) for n in s.split(\" \")])\n",
    "        return Node(array)\n",
    "\n",
    "    @staticmethod\n",
    "    def from_file(filename):\n",
    "        lines = []\n",
    "        with open(filename, \"r\") as fh:\n",
    "            for line in fh:\n",
    "                lines.append(line.rstrip())\n",
    "        return Node.from_string(\" \".join(lines))\n",
    "    \n",
    "test = Node.from_string(\"2 3 0 3 10 11 12 1 1 0 1 99 2 1 1 2\")\n",
    "test.pprint()\n",
    "test.metasum()"
   ]
  },
  {
   "cell_type": "code",
   "execution_count": 13,
   "metadata": {},
   "outputs": [],
   "source": [
    "inp = Node.from_file(\"input.txt\")"
   ]
  },
  {
   "cell_type": "code",
   "execution_count": 14,
   "metadata": {},
   "outputs": [
    {
     "data": {
      "text/plain": [
       "44838"
      ]
     },
     "execution_count": 14,
     "metadata": {},
     "output_type": "execute_result"
    }
   ],
   "source": [
    "inp.t"
   ]
  },
  {
   "cell_type": "code",
   "execution_count": null,
   "metadata": {},
   "outputs": [],
   "source": []
  }
 ],
 "metadata": {
  "kernelspec": {
   "display_name": "Python 3",
   "language": "python",
   "name": "python3"
  },
  "language_info": {
   "codemirror_mode": {
    "name": "ipython",
    "version": 3
   },
   "file_extension": ".py",
   "mimetype": "text/x-python",
   "name": "python",
   "nbconvert_exporter": "python",
   "pygments_lexer": "ipython3",
   "version": "3.6.4"
  }
 },
 "nbformat": 4,
 "nbformat_minor": 2
}
