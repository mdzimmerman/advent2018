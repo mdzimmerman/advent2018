{
 "cells": [
  {
   "cell_type": "code",
   "execution_count": 2,
   "metadata": {},
   "outputs": [],
   "source": [
    "test = [\n",
    "    \"abcdef\", # contains no letters that appear exactly two or three times.\n",
    "    \"bababc\", # contains two a and three b, so it counts for both.\n",
    "    \"abbcde\", # contains two b, but no letter appears exactly three times.\n",
    "    \"abcccd\", # contains three c, but no letter appears exactly two times.\n",
    "    \"aabcdd\", # contains two a and two d, but it only counts once.\n",
    "    \"abcdee\", # contains two e.\n",
    "    \"ababab\"  # contains three a and three b, but it only counts once.\n",
    "]"
   ]
  },
  {
   "cell_type": "code",
   "execution_count": 4,
   "metadata": {},
   "outputs": [],
   "source": [
    "def hist(s):\n",
    "    h = {}\n",
    "    for c in s:\n",
    "        if c in h:\n",
    "            h[c] += 1\n",
    "        else:\n",
    "            h[c] = 1\n",
    "    return h"
   ]
  },
  {
   "cell_type": "code",
   "execution_count": 5,
   "metadata": {},
   "outputs": [
    {
     "data": {
      "text/plain": [
       "{'a': 2, 'b': 3, 'c': 1}"
      ]
     },
     "execution_count": 5,
     "metadata": {},
     "output_type": "execute_result"
    }
   ],
   "source": [
    "h = hist(\"bababc\")"
   ]
  },
  {
   "cell_type": "code",
   "execution_count": 9,
   "metadata": {},
   "outputs": [
    {
     "name": "stdout",
     "output_type": "stream",
     "text": [
      "n2: 4 n3: 3 => sum: 12\n"
     ]
    },
    {
     "data": {
      "text/plain": [
       "12"
      ]
     },
     "execution_count": 9,
     "metadata": {},
     "output_type": "execute_result"
    }
   ],
   "source": [
    "def checksum(sl):\n",
    "    n2 = 0\n",
    "    n3 = 0\n",
    "    for s in sl:\n",
    "        twos = False\n",
    "        threes = False\n",
    "        h = hist(s)\n",
    "        for k, v in h.items():\n",
    "            if v == 2:\n",
    "                twos = True\n",
    "            if v == 3:\n",
    "                threes = True\n",
    "        if twos:\n",
    "            n2 += 1\n",
    "        if threes:\n",
    "            n3 += 1\n",
    "        out = n2 * n3\n",
    "    print(\"n2: %d n3: %d => sum: %d\" % (n2, n3, out))\n",
    "    return out\n",
    "\n",
    "checksum(test)"
   ]
  },
  {
   "cell_type": "code",
   "execution_count": 10,
   "metadata": {},
   "outputs": [
    {
     "name": "stdout",
     "output_type": "stream",
     "text": [
      "n2: 247 n3: 30 => sum: 7410\n",
      "7410\n"
     ]
    }
   ],
   "source": [
    "with open(\"input.txt\", \"r\") as fh:\n",
    "    print(checksum(fh))"
   ]
  },
  {
   "cell_type": "code",
   "execution_count": 11,
   "metadata": {},
   "outputs": [],
   "source": [
    "test2 = [\n",
    "    \"abcde\",\n",
    "    \"fghij\",\n",
    "    \"klmno\",\n",
    "    \"pqrst\",\n",
    "    \"fguij\",\n",
    "    \"axcye\",\n",
    "    \"wvxyz\"]"
   ]
  },
  {
   "cell_type": "code",
   "execution_count": 16,
   "metadata": {},
   "outputs": [
    {
     "data": {
      "text/plain": [
       "'fgij'"
      ]
     },
     "execution_count": 16,
     "metadata": {},
     "output_type": "execute_result"
    }
   ],
   "source": [
    "def common(s1, s2):\n",
    "    c = \"\"\n",
    "    for c1, c2 in zip(s1, s2):\n",
    "        if c1 == c2:\n",
    "            c += c1 \n",
    "    return c\n",
    "        \n",
    "common(test2[1], test2[4])"
   ]
  },
  {
   "cell_type": "code",
   "execution_count": 20,
   "metadata": {},
   "outputs": [
    {
     "data": {
      "text/plain": [
       "'fgij'"
      ]
     },
     "execution_count": 20,
     "metadata": {},
     "output_type": "execute_result"
    }
   ],
   "source": [
    "def prototype(data):\n",
    "    clongest = \"\"\n",
    "    for i in range(len(data)):\n",
    "        for j in range(i+1, len(data)):\n",
    "            c = common(data[i], data[j])\n",
    "            if len(c) > len(clongest):\n",
    "                clongest = c\n",
    "    return clongest\n",
    "\n",
    "prototype(test2)"
   ]
  },
  {
   "cell_type": "code",
   "execution_count": 24,
   "metadata": {},
   "outputs": [
    {
     "data": {
      "text/plain": [
       "['cnjxpritdzhubeseewfmqagkul',\n",
       " 'cwyxpgitdzhvbosyewfmqagkul',\n",
       " 'cnfxpritdzhebosywwfmqagkul',\n",
       " 'cnjxpritdzgvbosyawfiqagkul',\n",
       " 'cnkxpritdzhvbosyewfmgagkuh',\n",
       " 'gnjxprhtdzhebosyewfmqagkul',\n",
       " 'cnjxpriedzevbosyewfjqagkul',\n",
       " 'cnjxpritdzhpyosyewfsqagkul',\n",
       " 'cnjxprltdzhvbosyewfmhagkzl',\n",
       " 'cnjxfritdjhvbosyewfmiagkul',\n",
       " 'xnjxpritdzhvbosyewfmqagkgn',\n",
       " 'cnjxpritdzmvzosyewfhqagkul',\n",
       " 'cljxxritdzhvbosyewfmragkul',\n",
       " 'cnjxjritdzhvbovyewfmvagkul',\n",
       " 'cnjxprdtdzhpbosyewvmqagkul',\n",
       " 'cojxprdtdzhzbosyewfmqagkul',\n",
       " 'cnjxpritgzhvfgsyewfmqagkul',\n",
       " 'knjxprptdzhvbosyecfmqagkul',\n",
       " 'cnjxpritdzhvbvsyeyfmqagkuc',\n",
       " 'cnjxpritdzhvbosvewfmoagjul',\n",
       " 'cnjxpritdzhvbosyfwfmbagkjl',\n",
       " 'cnjxpjitazhvbosfewfmqagkul',\n",
       " 'cnjtpfitdzhvbosyewfmiagkul',\n",
       " 'ckjxpritdzhvbysyewfmqagoul',\n",
       " 'cnjxvritdzhvbfsyewfmqalkul',\n",
       " 'cnjipqitdzhvbosyewfeqagkul',\n",
       " 'cnjhpritdzhvbosyewymqjgkul',\n",
       " 'cnjxprrtdzhvbosyewfmlkgkul',\n",
       " 'cnjxnritdzhvbopyewfmqaskul',\n",
       " 'cxjxpritdzhvtosyewjmqagkul',\n",
       " 'cnjxpritdzhvbjsyewfrqagkwl',\n",
       " 'cnjxhritdzhubosyewfmqagvul',\n",
       " 'cnjxpritdzhvbosyyyfmeagkul',\n",
       " 'cnjxkritdzhvaoeyewfmqagkul',\n",
       " 'cnjxpritdzhvtotyewfmqazkul',\n",
       " 'cnjxoriadzhvbosyewfmqcgkul',\n",
       " 'cnjxpritdzhcbosyewfmkapkul',\n",
       " 'fnjxprtddzhvbosyewfmqagkul',\n",
       " 'cnjxmvitdzhvbosyewfmqagrul',\n",
       " 'cnjxpyitdzhibosyewfmqagktl',\n",
       " 'cyjxprxtdzhvbosyewbmqagkul',\n",
       " 'onjxpditdzhvbosyeofmqagkul',\n",
       " 'cnjxprixdzhvbosuewftqagkul',\n",
       " 'cnjxpritdrhvaosyewymqagkul',\n",
       " 'cnjxpritdzhhbokyewfvqagkul',\n",
       " 'cnjxpritczhvbosyewfmqwgxul',\n",
       " 'cnjxpribdzqvbnsyewfmqagkul',\n",
       " 'ynpxpritdzhvbvsyewfmqagkul',\n",
       " 'cnjxprirdzhvboerewfmqagkul',\n",
       " 'cnjxpritdxhvbosyewfmgavkul',\n",
       " 'cnwxprntdzhvbosyewfmqagkuk',\n",
       " 'cnjxpritzzhvbosyewfmcagktl',\n",
       " 'bbjxpritdzhvbosyetfmqagkul',\n",
       " 'cnjxpbitdzhvbosyewrmqagkui',\n",
       " 'cnjxwrildzcvbosyewfmqagkul',\n",
       " 'cnqxpoitdzhvbosnewfmqagkul',\n",
       " 'cnzxpritdzhvbosyewfmqazkfl',\n",
       " 'cnjxpriddzhvoosyewfmhagkul',\n",
       " 'znjxpritdzhvbosjewfmqagkur',\n",
       " 'cnjxpritdzhvbosyewcmfagkuk',\n",
       " 'cnjxpritdzhvbomyywnmqagkul',\n",
       " 'cnjxpgitjzhvbosyejfmqagkul',\n",
       " 'cnjxpkitdzjvbosyewfmqcgkul',\n",
       " 'cnjxpritduhvbosyewfmqfkkul',\n",
       " 'cnfxpritdzhvbgsyewfmqwgkul',\n",
       " 'cnjxpritdzhvbosywufmqaskul',\n",
       " 'cnjxprittzhvboryswfmqagkul',\n",
       " 'cndxpritpzrvbosyewfmqagkul',\n",
       " 'cnjxpritdzhvbosyewfwqazkum',\n",
       " 'cccxprmtdzhvbosyewfmqagkul',\n",
       " 'cnjxpzitdzhvlbsyewfmqagkul',\n",
       " 'cnjxdrigdzhvbosyewfmqagsul',\n",
       " 'fhjxpritdzhvbosyewfmqagkcl',\n",
       " 'cnjxpritdzhvdosyewffqagaul',\n",
       " 'cnjxprikdztvbosyekfmqagkul',\n",
       " 'cnjxpritdzhvbohiewfmqagkue',\n",
       " 'cnjxpritdzhvbowyetfmqegkul',\n",
       " 'cnuxpritdzhvbosyewmmqapkul',\n",
       " 'qnjxpritdzhvbosyewfmjakkul',\n",
       " 'cnjxpritdzlvbosyewiaqagkul',\n",
       " 'cnjxpritdzhpoosyewfmvagkul',\n",
       " 'cdjxpritdzhvboryewfbqagkul',\n",
       " 'cnjxppitxzhvbosyewymqagkul',\n",
       " 'cnjxpywtdzhvboiyewfmqagkul',\n",
       " 'cnjxpritdzpvbosyezfmqaqkul',\n",
       " 'cnjppritdghvbosyewfdqagkul',\n",
       " 'cmjxpritdzhvbosvewfmqagkup',\n",
       " 'cnjxoritdzhvbosylffmqagkul',\n",
       " 'cnjxfritdzhvbojyewfmqagkvl',\n",
       " 'cnjxpritdzhvbozyewgmqlgkul',\n",
       " 'cnjxlritdzhvbosyewfmqalkug',\n",
       " 'cnyxprittzhvbosyewfmsagkul',\n",
       " 'cnjxprytdzcvdosyewfmqagkul',\n",
       " 'ctjxpritdzhvbosyedfmqagkil',\n",
       " 'cnjxpvitdzhrbosyewfmqaekul',\n",
       " 'cnyxyritdzhvbospewfmqagkul',\n",
       " 'cnjxoritwzhvbosyewrmqhgkul',\n",
       " 'cnjxpritdzhjbosyqwsmqagkul',\n",
       " 'cnjzprindzhvbosyewfmqabkul',\n",
       " 'cnjspritdzhvbosysffmqagkul',\n",
       " 'cnxxpritdzhvbosyelfmqageul',\n",
       " 'bnjhpritdzhvbosyewfmzagkul',\n",
       " 'cnjxbhitdzhdbosyewfmqagkul',\n",
       " 'cnjxprktdzmvbosyewfmqagkuj',\n",
       " 'cnjxprixdzhvbqsyewfmqmgkul',\n",
       " 'cnjxpkitdzhvbosyewfmqagbum',\n",
       " 'cnjhpritdzhxbosyewfmqagjul',\n",
       " 'cnjxpritdzzvbosyewuqqagkul',\n",
       " 'cnjxprhtdzhvuopyewfmqagkul',\n",
       " 'cnjxpritdzhjqosyewfmqagkgl',\n",
       " 'cnzxpritdzhvbosyejfmuagkul',\n",
       " 'cnvxpritoohvbosyewfmqagkul',\n",
       " 'cnjxpmitdzwvbosyemfmqagkul',\n",
       " 'cnjoprittzzvbosyewfmqagkul',\n",
       " 'cnjxpgitdzhvbosytwfmqsgkul',\n",
       " 'cnjxprrtdehvbosyewfnqagkul',\n",
       " 'onjxpjitdzgvbosyewfmqagkul',\n",
       " 'cnjxpmitdzhvbopaewfmqagkul',\n",
       " 'cnjxpritqzhvbosoewfrqagkul',\n",
       " 'cnjxpnitdzhvbosyewfmqagkjy',\n",
       " 'cnsxpritdzhvbosyewfmqjykul',\n",
       " 'cnjxpriidzhvbosyewfmqxgkut',\n",
       " 'cnjxpyitdzhnbosyewfgqagkul',\n",
       " 'cnjxpritdzhbboyyewfmqagsul',\n",
       " 'cnjxpeitdzsvbosyewfmqabkul',\n",
       " 'cnjxpritdzhzvosyewfmragkul',\n",
       " 'cnjrpritdzhmbosyewfmqrgkul',\n",
       " 'cnjxpritdzhmbosyenfmqaglul',\n",
       " 'cnjxqrntdzhvboswewfmqagkul',\n",
       " 'cnjxprdtpzhvbosyewfmqagkcl',\n",
       " 'cnjxpritdzhvsdsyewfmqagkur',\n",
       " 'cnjxpritdzhvvosyewumqhgkul',\n",
       " 'cnzxpritdznvhosyewfmqagkul',\n",
       " 'ynjypritdzhvbosyewfmqagkuz',\n",
       " 'cnjxpnitdzhvbocyezfmqagkul',\n",
       " 'vnjxpritdzhvbfsyewfmjagkul',\n",
       " 'cnjfpritdzhvbosyewfmqagkzu',\n",
       " 'cnjxpritdzhbbosyewfmlegkul',\n",
       " 'cnjxpnitdzhvbosyesfmbagkul',\n",
       " 'cnjxpritezwvbosyewfmqagkgl',\n",
       " 'cujxpritdzhqbosyawfmqagkul',\n",
       " 'cnjxprindzhrbosyerfmqagkul',\n",
       " 'cntxpritdzhvbosyewfmqauxul',\n",
       " 'cnjxpvitdzhvbosyepfmqagkuy',\n",
       " 'cnjxdrqtdzhvbosdewfmqagkul',\n",
       " 'cnnxpritdzhvvosyenfmqagkul',\n",
       " 'lnjxphitdzhvbosyewfaqagkul',\n",
       " 'cngxpritdzhhbobyewfmqagkul',\n",
       " 'uncxphitdzhvbosyewfmqagkul',\n",
       " 'cnjxpribdehvbosfewfmqagkul',\n",
       " 'cnjxppitdqhvbmsyewfmqagkul',\n",
       " 'gnjxpritkzhvbosyewfbqagkul',\n",
       " 'znjxpritdzhvbowycwfmqagkul',\n",
       " 'cnjxpgitdzhvbosyewidqagkul',\n",
       " 'cnjxhritdzhvbowyswfmqagkul',\n",
       " 'injxkritdzhvbjsyewfmqagkul',\n",
       " 'cmjupritgzhvbosyewfmqagkul',\n",
       " 'cnjxpritdzbvjoeyewfmqagkul',\n",
       " 'cnjxpritdkhvbosyewlmuagkul',\n",
       " 'cnkxpritdzhebvsyewfmqagkul',\n",
       " 'cyjxptitdzhvbosyewfmqagkuv',\n",
       " 'cnjxpritdzhvbodrewflqagkul',\n",
       " 'cnjxpratdzhvbksyewfhqagkul',\n",
       " 'cnjxpoitdzhvbosjewxmqagkul',\n",
       " 'cnjxprhidzhvbasyewfmqagkul',\n",
       " 'cnjxpritdzhvbosqewvmqagmul',\n",
       " 'cnjxoritdzhvbosyzifmqagkul',\n",
       " 'mnjxpritdzhvbcsyeyfmqagkul',\n",
       " 'cnjhpritgzhvbosyewfmqngkul',\n",
       " 'cnjxprijdzevbesyewfmqagkul',\n",
       " 'cnexprqtdzhvbosyewvmqagkul',\n",
       " 'cnjxpxitdzhvbosyawfmqmgkul',\n",
       " 'cnjxpritdzhvbosyirfmqaxkul',\n",
       " 'cqjxpcitdzhvboslewfmqagkul',\n",
       " 'cmjxpqitdztvbosyewfmqagkul',\n",
       " 'cnbxpritdzhvfosyewfmuagkul',\n",
       " 'cnjxprrtdzhvbosumwfmqagkul',\n",
       " 'cnjxprttdvhvbossewfmqagkul',\n",
       " 'cnjxpritdzhvbcsuewfaqagkul',\n",
       " 'cbjxpritdzhvbosyewfhqalkul',\n",
       " 'cnjxprithzhvbosjcwfmqagkul',\n",
       " 'chjxpritdzhvbosyewftcagkul',\n",
       " 'cnjxprirdchvdosyewfmqagkul',\n",
       " 'cnjxpritdxhvbosyewfmqcgkal',\n",
       " 'cnjxpriidchvbosrewfmqagkul',\n",
       " 'cnjhprizdzhvbosyewfmqagvul',\n",
       " 'cnjwpritdzhpbosyewfmqaqkul',\n",
       " 'cnjxpgitfzhvbosyxwfmqagkul',\n",
       " 'cnjxpjiedzhvbosywwfmqagkul',\n",
       " 'cnjxpritdzhvbosyewfpqynkul',\n",
       " 'xnixlritdzhvbosyewfmqagkul',\n",
       " 'cnjxoritdznvbosyehfmqagkul',\n",
       " 'cnjxpritdzhvbjsyewsmqagcul',\n",
       " 'lnjxpritdzhvkosyewjmqagkul',\n",
       " 'cnjxpritdzhvbosyedfiqvgkul',\n",
       " 'cnjxpritdzhqbdsyerfmqagkul',\n",
       " 'cnjxpritdzavbosyywfmqagvul',\n",
       " 'dmjxprithzhvbosyewfmqagkul',\n",
       " 'cnjxpriqdzhvnosyeofmqagkul',\n",
       " 'cnjxpritdxhvboszewfmqkgkul',\n",
       " 'cnjxpritdzxvbosjewymqagkul',\n",
       " 'cnjxpritdzngbosyewfmqugkul',\n",
       " 'cajxpritdnhvbosyerfmqagkul',\n",
       " 'cnsxpritdzhvbosymwfmqagcul',\n",
       " 'cnjxoritdzhvbosyewrmqhgkul',\n",
       " 'cnjxpritdzhvposyewfmqagkwo',\n",
       " 'cnjxpriazzhvbosyeufmqagkul',\n",
       " 'cnjxrritdzhvbosymhfmqagkul',\n",
       " 'cnjxprztdzhvbosyewfmqtgkum',\n",
       " 'cnjxpritdzhvbmsyewfmqatkun',\n",
       " 'cnuxpritdzhvbosyewfmqagvur',\n",
       " 'ctjxxritdzhvbosyewfvqagkul',\n",
       " 'cnjxpritdzlvbosyevfmqagkll',\n",
       " 'cnjxpritdzhlbosyewfmqagasl',\n",
       " 'cnjxpritwzhvbosyewfcxagkul',\n",
       " 'cyjxpritdzhfbosyewfmqagcul',\n",
       " 'cnjxpritxghvkosyewfmqagkul',\n",
       " 'ctjxpritdjhvbosyewfmqkgkul',\n",
       " 'cnjxpritxzhvbosyewjmbagkul',\n",
       " 'unjxpritdzhkbosyewfmqaghul',\n",
       " 'cnjoprqtdzhvbosyewzmqagkul',\n",
       " 'rnjxprgtgzhvbosyewfmqagkul',\n",
       " 'cnjgpqitdzhvbosyewfaqagkul',\n",
       " 'cnjxpritdzuybosyewfmqagful',\n",
       " 'cnjxprqtdahvbosyewfnqagkul',\n",
       " 'cnjxpritdzhmkhsyewfmqagkul',\n",
       " 'wnjxpritdzhvbosiewfmqagkml',\n",
       " 'cnjmpritdzhvbosyjwfmqagkdl',\n",
       " 'cnjopritdzhvbksyewfmqrgkul',\n",
       " 'cnlxpritdzhvbosyewfmomgkul',\n",
       " 'cgjxpritdzhvbbsyewfmxagkul',\n",
       " 'cnaxpritdvhvnosyewfmqagkul',\n",
       " 'cnjxprijdzhvbkmyewfmqagkul',\n",
       " 'cnjxpritdzhvposyewzmqagkuz',\n",
       " 'cnuxpuitdzdvbosyewfmqagkul',\n",
       " 'cnjxprifdzjvbosyewfyqagkul',\n",
       " 'cnhspritdzhvbosyewfmqaghul',\n",
       " 'cnjxprcbdzfvbosyewfmqagkul',\n",
       " 'lnjapritdzhvbosyewfmqegkul',\n",
       " 'cnjxprisszhvbosyewqmqagkul',\n",
       " 'cnjxpritdzhvbosyeifmsagoul',\n",
       " 'cnjxpritrfhvbosyewfmqagkuz',\n",
       " 'cnjxkritdzmvboqyewfmqagkul',\n",
       " 'cnjxpritdzhvbosyedfmqzgkzl',\n",
       " 'cnjxprifdzhvbosyswfmqagksl',\n",
       " 'cnjxoritdzhvbosyxwfmhagkul',\n",
       " 'cnjhpritdzzvbosfewfmqagkul',\n",
       " 'cnjxprityjhvbomyewfmqagkul',\n",
       " 'cnjbpritdzhvbosyywfmqagkuf',\n",
       " 'cnjxprrtdzhvbosyewgmqagtul']"
      ]
     },
     "execution_count": 24,
     "metadata": {},
     "output_type": "execute_result"
    }
   ],
   "source": [
    "input = []\n",
    "with open(\"input.txt\", \"r\") as fh:\n",
    "    for l in fh:\n",
    "        input.append(l.rstrip())\n",
    "input"
   ]
  },
  {
   "cell_type": "code",
   "execution_count": 25,
   "metadata": {},
   "outputs": [
    {
     "data": {
      "text/plain": [
       "'cnjxoritzhvbosyewrmqhgkul'"
      ]
     },
     "execution_count": 25,
     "metadata": {},
     "output_type": "execute_result"
    }
   ],
   "source": [
    "prototype(input)"
   ]
  },
  {
   "cell_type": "code",
   "execution_count": null,
   "metadata": {},
   "outputs": [],
   "source": []
  }
 ],
 "metadata": {
  "kernelspec": {
   "display_name": "Python 3",
   "language": "python",
   "name": "python3"
  },
  "language_info": {
   "codemirror_mode": {
    "name": "ipython",
    "version": 3
   },
   "file_extension": ".py",
   "mimetype": "text/x-python",
   "name": "python",
   "nbconvert_exporter": "python",
   "pygments_lexer": "ipython3",
   "version": "3.6.4"
  }
 },
 "nbformat": 4,
 "nbformat_minor": 2
}
