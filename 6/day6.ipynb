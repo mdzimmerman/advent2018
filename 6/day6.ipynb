{
 "cells": [
  {
   "cell_type": "code",
   "execution_count": 49,
   "metadata": {},
   "outputs": [],
   "source": [
    "import math\n",
    "\n",
    "import matplotlib.pyplot as plt\n",
    "import numpy as np"
   ]
  },
  {
   "cell_type": "code",
   "execution_count": 114,
   "metadata": {},
   "outputs": [
    {
     "name": "stdout",
     "output_type": "stream",
     "text": [
      "PointArray(array([Point(1, 1), Point(1, 6), Point(8, 3), Point(3, 4), Point(5, 5),\n",
      "       Point(8, 9)], dtype=object))\n",
      "#0 Point(1, 1): infinite\n",
      "#1 Point(1, 6): infinite\n",
      "#2 Point(8, 3): infinite\n",
      "#3 Point(3, 4): 9\n",
      "#4 Point(5, 5): 17\n",
      "#5 Point(8, 9): infinite\n"
     ]
    },
    {
     "data": {
      "text/plain": [
       "<matplotlib.image.AxesImage at 0x1ee3bd81080>"
      ]
     },
     "execution_count": 114,
     "metadata": {},
     "output_type": "execute_result"
    },
    {
     "data": {
      "image/png": "[encoded data removed]",
      "text/plain": [
       "<matplotlib.figure.Figure at 0x1ee3d3d7390>"
      ]
     },
     "metadata": {},
     "output_type": "display_data"
    }
   ],
   "source": [
    "class Point(object):\n",
    "    vec_calc_dists = np.vectorize(Point.calc_dist)\n",
    "    \n",
    "    def __init__(self, x, y):\n",
    "        self.x = x\n",
    "        self.y = y\n",
    "        \n",
    "    def __repr__(self):\n",
    "        return \"Point(%d, %d)\" % (self.x, self.y)\n",
    "\n",
    "    @staticmethod\n",
    "    def calc_dist(p1, p2):\n",
    "        return abs(p1.x - p2.x) + abs(p1.y - p2.y)\n",
    "\n",
    "class PointArray(object):\n",
    "    def __init__(self, points):\n",
    "        self.points = points\n",
    "        self.xmax = self._xmax()\n",
    "        self.ymax = self._ymax()\n",
    "        self.grid = None\n",
    "        self.grid2 = None\n",
    "    \n",
    "    def __repr__(self):\n",
    "        return \"PointArray(\"+self.points.__repr__()+\")\"\n",
    "    \n",
    "    def _xmax(self):\n",
    "        return np.array([p.x for p in self.points]).max()\n",
    "    \n",
    "    def _ymax(self):\n",
    "        return np.array([p.y for p in self.points]).max()\n",
    "    \n",
    "    def build_grid(self, xpad=0, ypad=0):\n",
    "        nx = self.xmax + 1 + xpad\n",
    "        ny = self.ymax + 1 + ypad\n",
    "        self.grid = np.ndarray((ny, nx), dtype=int)\n",
    "        self.grid[:] = -1\n",
    "        for j in range(ny):\n",
    "            for i in range(nx):\n",
    "                p = Point(i, j)\n",
    "                d = Point.vec_calc_dists(self.points, p)\n",
    "                k = d.argmin()\n",
    "                dmin = d[k]\n",
    "                if len(d[d==dmin]) == 1:\n",
    "                    self.grid[j,i] = k\n",
    "                    \n",
    "    def build_grid2(self, xpad=0, ypad=0):\n",
    "        nx = self.xmax + 1 + xpad\n",
    "        ny = self.ymax + 1 + ypad\n",
    "        self.grid2 = np.ndarray((ny, nx), dtype=int)\n",
    "        for j in range(ny):\n",
    "            for i in range(nx):\n",
    "                p = Point(i, j)\n",
    "                d = Point.vec_calc_dists(self.points, p)\n",
    "                self.grid2[j,i] = d.sum()\n",
    "        \n",
    "    def find_max_area(self):\n",
    "        inf = set(np.unique(np.concatenate((self.grid[0,:], self.grid[-1,:], self.grid[:,0], self.grid[:,-1]))))\n",
    "        max_area = 0\n",
    "        #print(self.points)\n",
    "        for k, p in enumerate(self.points):\n",
    "            if k in inf:\n",
    "                print(\"#%d %s: infinite\" % (k, p))\n",
    "            else: \n",
    "                area = (self.grid == k).sum()\n",
    "                print(\"#%d %s: %d\" % (k, p, area))\n",
    "                if area > max_area:\n",
    "                    max_area = area\n",
    "        return max_area\n",
    "\n",
    "    @staticmethod\n",
    "    def from_file(filename):\n",
    "        out = []\n",
    "        with open(filename, \"r\") as fh:\n",
    "            for line in fh:\n",
    "                #print(line)\n",
    "                x, y = line.rstrip().split(\", \")\n",
    "                out.append(Point(int(x), int(y)))\n",
    "        return PointArray(np.array(out))\n",
    "    \n",
    "testpoints = PointArray.from_file(\"test.txt\")\n",
    "print(testpoints)\n",
    "testpoints.build_grid()\n",
    "plt.imshow(testpoints.grid)\n",
    "testpoints.find_max_area()\n",
    "testpoints.build_grid2()\n",
    "plt.imshow((testpoints.grid2 < 32))"
   ]
  },
  {
   "cell_type": "code",
   "execution_count": 115,
   "metadata": {},
   "outputs": [
    {
     "name": "stdout",
     "output_type": "stream",
     "text": [
      "PointArray(array([Point(337, 150), Point(198, 248), Point(335, 161), Point(111, 138),\n",
      "       Point(109, 48), Point(261, 155), Point(245, 130), Point(346, 43),\n",
      "       Point(355, 59), Point(53, 309), Point(59, 189), Point(325, 197),\n",
      "       Point(93, 84), Point(194, 315), Point(71, 241), Point(193, 81),\n",
      "       Point(166, 187), Point(208, 95), Point(45, 147), Point(318, 222),\n",
      "       Point(338, 354), Point(293, 242), Point(240, 105), Point(284, 62),\n",
      "       Point(46, 103), Point(59, 259), Point(279, 205), Point(57, 102),\n",
      "       Point(77, 72), Point(227, 194), Point(284, 279), Point(300, 45),\n",
      "       Point(168, 42), Point(302, 99), Point(338, 148), Point(300, 316),\n",
      "       Point(296, 229), Point(293, 359), Point(175, 208), Point(86, 147),\n",
      "       Point(91, 261), Point(188, 155), Point(257, 292), Point(268, 215),\n",
      "       Point(257, 288), Point(165, 333), Point(131, 322), Point(264, 313),\n",
      "       Point(236, 130), Point(98, 60)], dtype=object))\n"
     ]
    },
    {
     "data": {
      "image/png": "[encoded data removed]",
      "text/plain": [
       "<matplotlib.figure.Figure at 0x1ee3ce7a5c0>"
      ]
     },
     "metadata": {},
     "output_type": "display_data"
    },
    {
     "name": "stdout",
     "output_type": "stream",
     "text": [
      "#0 Point(337, 150): infinite\n",
      "#1 Point(198, 248): 4284\n",
      "#2 Point(335, 161): infinite\n",
      "#3 Point(111, 138): 3695\n",
      "#4 Point(109, 48): infinite\n",
      "#5 Point(261, 155): 2222\n",
      "#6 Point(245, 130): 997\n",
      "#7 Point(346, 43): infinite\n",
      "#8 Point(355, 59): infinite\n",
      "#9 Point(53, 309): infinite\n",
      "#10 Point(59, 189): infinite\n",
      "#11 Point(325, 197): infinite\n",
      "#12 Point(93, 84): 1970\n",
      "#13 Point(194, 315): infinite\n",
      "#14 Point(71, 241): infinite\n",
      "#15 Point(193, 81): 2821\n",
      "#16 Point(166, 187): 2363\n",
      "#17 Point(208, 95): 1836\n",
      "#18 Point(45, 147): infinite\n",
      "#19 Point(318, 222): infinite\n",
      "#20 Point(338, 354): infinite\n",
      "#21 Point(293, 242): 1319\n",
      "#22 Point(240, 105): 2070\n",
      "#23 Point(284, 62): 2191\n",
      "#24 Point(46, 103): infinite\n",
      "#25 Point(59, 259): infinite\n",
      "#26 Point(279, 205): 1240\n",
      "#27 Point(57, 102): 1147\n",
      "#28 Point(77, 72): infinite\n",
      "#29 Point(227, 194): 2649\n",
      "#30 Point(284, 279): infinite\n",
      "#31 Point(300, 45): infinite\n",
      "#32 Point(168, 42): infinite\n",
      "#33 Point(302, 99): 3212\n",
      "#34 Point(338, 148): infinite\n",
      "#35 Point(300, 316): 2284\n",
      "#36 Point(296, 229): 594\n",
      "#37 Point(293, 359): infinite\n",
      "#38 Point(175, 208): 2962\n",
      "#39 Point(86, 147): 1874\n",
      "#40 Point(91, 261): 3129\n",
      "#41 Point(188, 155): 3129\n",
      "#42 Point(257, 292): 726\n",
      "#43 Point(268, 215): 1524\n",
      "#44 Point(257, 288): 1613\n",
      "#45 Point(165, 333): infinite\n",
      "#46 Point(131, 322): infinite\n",
      "#47 Point(264, 313): 2243\n",
      "#48 Point(236, 130): 1125\n",
      "#49 Point(98, 60): 1027\n"
     ]
    },
    {
     "data": {
      "text/plain": [
       "4284"
      ]
     },
     "execution_count": 115,
     "metadata": {},
     "output_type": "execute_result"
    }
   ],
   "source": [
    "inputpoints = PointArray.from_file(\"input.txt\")\n",
    "print(inputpoints)\n",
    "inputpoints.build_grid(xpad=50, ypad=50)\n",
    "fig, ax = plt.subplots(figsize=(12, 12))\n",
    "ax.imshow(inputpoints.grid)\n",
    "plt.show()\n",
    "inputpoints.find_max_area()"
   ]
  },
  {
   "cell_type": "code",
   "execution_count": 116,
   "metadata": {},
   "outputs": [],
   "source": [
    "inputpoints.build_grid2()"
   ]
  },
  {
   "cell_type": "code",
   "execution_count": 119,
   "metadata": {},
   "outputs": [
    {
     "data": {
      "text/plain": [
       "<matplotlib.image.AxesImage at 0x1ee3d468cf8>"
      ]
     },
     "execution_count": 119,
     "metadata": {},
     "output_type": "execute_result"
    },
    {
     "data": {
      "image/png": "[encoded data removed]",
      "text/plain": [
       "<matplotlib.figure.Figure at 0x1ee3d4684e0>"
      ]
     },
     "metadata": {},
     "output_type": "display_data"
    }
   ],
   "source": [
    "fig, ax = plt.subplots(figsize=(12, 12))\n",
    "ax.imshow((inputpoints.grid2 < 10000))"
   ]
  },
  {
   "cell_type": "code",
   "execution_count": 120,
   "metadata": {},
   "outputs": [
    {
     "data": {
      "text/plain": [
       "35490"
      ]
     },
     "execution_count": 120,
     "metadata": {},
     "output_type": "execute_result"
    }
   ],
   "source": [
    "(inputpoints.grid2 < 10000).sum()"
   ]
  },
  {
   "cell_type": "code",
   "execution_count": 51,
   "metadata": {},
   "outputs": [
    {
     "name": "stdout",
     "output_type": "stream",
     "text": [
      "[[ 0  0  0  0  0 -1  2  2  2  2  2  2]\n",
      " [ 0  0  0  0  0 -1  2  2  2  2  2  2]\n",
      " [ 0  0  0  3  3  4  2  2  2  2  2  2]\n",
      " [ 0  0  3  3  3  4  2  2  2  2  2  2]\n",
      " [-1 -1  3  3  3  4  4  2  2  2  2  2]\n",
      " [ 1  1 -1  3  4  4  4  4  2  2  2  2]\n",
      " [ 1  1  1 -1  4  4  4  4 -1 -1 -1 -1]\n",
      " [ 1  1  1 -1  4  4  4  5  5  5  5  5]\n",
      " [ 1  1  1 -1  4  4  5  5  5  5  5  5]\n",
      " [ 1  1  1 -1  5  5  5  5  5  5  5  5]\n",
      " [ 1  1  1 -1  5  5  5  5  5  5  5  5]]\n"
     ]
    },
    {
     "data": {
      "text/plain": [
       "<matplotlib.image.AxesImage at 0x1ee3bb546a0>"
      ]
     },
     "execution_count": 51,
     "metadata": {},
     "output_type": "execute_result"
    },
    {
     "data": {
      "image/png": "[encoded data removed]",
      "text/plain": [
       "<matplotlib.figure.Figure at 0x1ee3ac0d9b0>"
      ]
     },
     "metadata": {},
     "output_type": "display_data"
    }
   ],
   "source": [
    "print(grid)\n",
    "plt.imshow(grid)"
   ]
  },
  {
   "cell_type": "code",
   "execution_count": 61,
   "metadata": {},
   "outputs": [],
   "source": []
  },
  {
   "cell_type": "code",
   "execution_count": 65,
   "metadata": {},
   "outputs": [],
   "source": [
    "\n"
   ]
  },
  {
   "cell_type": "code",
   "execution_count": null,
   "metadata": {},
   "outputs": [],
   "source": []
  }
 ],
 "metadata": {
  "kernelspec": {
   "display_name": "Python 3",
   "language": "python",
   "name": "python3"
  },
  "language_info": {
   "codemirror_mode": {
    "name": "ipython",
    "version": 3
   },
   "file_extension": ".py",
   "mimetype": "text/x-python",
   "name": "python",
   "nbconvert_exporter": "python",
   "pygments_lexer": "ipython3",
   "version": "3.6.4"
  }
 },
 "nbformat": 4,
 "nbformat_minor": 2
}
